{
 "cells": [
  {
   "cell_type": "code",
   "execution_count": null,
   "id": "f16f7dca",
   "metadata": {},
   "outputs": [],
   "source": [
    "#Required Liberyes \n",
    "import sys\n",
    "import os\n",
    "import keras\n",
    "from tensorflow.keras.applications import ResNet50\n",
    "from tensorflow.keras.applications import InceptionV3\n",
    "from tensorflow.keras.applications import Xception \n",
    "from keras.applications.vgg16 import VGG16\n",
    "from keras.applications.vgg19 import VGG19\n",
    "from tensorflow.keras import models\n",
    "from tensorflow.keras import layers\n",
    "from tensorflow.keras import optimizers\n",
    "from keras.preprocessing.image import ImageDataGenerator\n",
    "from keras.preprocessing import image\n",
    "from time import time\n",
    "\n",
    "# from tensorflow.python.keras.layers import Input, Dense\n",
    "# from tensorflow.python.keras.models import Sequential\n",
    "\n",
    "sys.path.append(r'C:\\Users\\venkatareddy.m\\Deep Learning\\\\Rust_VGG')\n",
    "import tensorflow as tf\n",
    "\n"
   ]
  },
  {
   "cell_type": "code",
   "execution_count": null,
   "id": "6327f68f",
   "metadata": {},
   "outputs": [],
   "source": [
    "base_model = VGG16(weights='imagenet',include_top=False,input_shape=(150, 150, 3))\n",
    "base_model.summary()\n",
    "# base_model = ResNet50(weights='imagenet',include_top=False,input_shape=(150, 150, 3))\n",
    "# base_model.summary()"
   ]
  },
  {
   "cell_type": "code",
   "execution_count": null,
   "id": "01d24adc",
   "metadata": {},
   "outputs": [],
   "source": [
    "def prototyping():\n",
    "    prototype = models.Sequential()\n",
    "    prototype.add(base_model)\n",
    "    prototype.add(layers.Flatten()) #Flattening is converting the data into a 1-dimensional array for inputting it to the next layer.\n",
    "    prototype.add(layers.Dense(256, activation='relu')) #dense layer is a layer that is deeply connected with its preceding layer\n",
    "    prototype.add(layers.Dense(1, activation='sigmoid'))\n",
    "    prototype.compile(optimizer='adadelta', loss='binary_crossentropy', metrics=['accuracy'])\n",
    "    prototype.summary()\n",
    "    return prototype"
   ]
  },
  {
   "cell_type": "code",
   "execution_count": null,
   "id": "58476bfa",
   "metadata": {},
   "outputs": [],
   "source": [
    "def train_model(): \n",
    "    train_loc = r\".\\Input\\train\"\n",
    "    validation_loc = r\".\\Input\\validation\"\n",
    "    train_dataset = ImageDataGenerator(rescale=1./255,rotation_range=30,width_shift_range=0.2,height_shift_range=0.2,shear_range=0.2,zoom_range=0.2,horizontal_flip=True,fill_mode='nearest')\n",
    "    test_dataset = ImageDataGenerator(rescale=1./255)\n",
    "    trainner = train_dataset.flow_from_directory(train_loc,target_size=(150, 150),batch_size=4,class_mode='binary')\n",
    "    validator = test_dataset.flow_from_directory(validation_loc,target_size=(150, 150),batch_size=16,class_mode='binary')\n",
    "    return trainner, validator"
   ]
  },
  {
   "cell_type": "code",
   "execution_count": null,
   "id": "584f154a",
   "metadata": {},
   "outputs": [],
   "source": [
    "model = prototyping()\n",
    "trainner, validator = train_model()"
   ]
  },
  {
   "cell_type": "code",
   "execution_count": null,
   "id": "babade38",
   "metadata": {},
   "outputs": [],
   "source": [
    "# csv_logger = tf.keras.callbacks.CSVLogger(\"log.csv\", separator=\",\", append=True)\n",
    "tensor_board = keras.callbacks.TensorBoard(log_dir='output/{}'.format(time()))\n",
    "model.compile(loss='binary_crossentropy',optimizer=tf.keras.optimizers.RMSprop(learning_rate=2e-5),metrics=['acc'])"
   ]
  },
  {
   "cell_type": "code",
   "execution_count": null,
   "id": "ad8a6a7f",
   "metadata": {},
   "outputs": [],
   "source": [
    "model.fit(trainner,steps_per_epoch=10,epochs=10,validation_data=validator,validation_steps=20,verbose=2,callbacks=[tensor_board])"
   ]
  },
  {
   "cell_type": "code",
   "execution_count": null,
   "id": "b3550754",
   "metadata": {},
   "outputs": [],
   "source": [
    "model.save('my_model_final.h5')"
   ]
  },
  {
   "cell_type": "code",
   "execution_count": null,
   "id": "764e44ef",
   "metadata": {},
   "outputs": [],
   "source": [
    "from keras.preprocessing import image\n",
    "from keras.models import load_model\n",
    "\n",
    "\n",
    "def main_module():\n",
    "    model = load_model('my_model_final.h5')\n",
    "#     image_path = r'.\\Input\\test\\rust\\000016.jpg'\n",
    "    image_path = r'.\\Input\\test\\norust\\norust.4.jpg'\n",
    "    input_image = image.load_img(image_path, target_size=(150, 150))\n",
    "    image_test = image.img_to_array(input_image)\n",
    "    image_test = image_test.reshape((1,) + image_test.shape)\n",
    "    image_test = image_test.astype('float32') / 255\n",
    "    rust_prob = model.predict(image_test)\n",
    "    if (rust_prob > 0.50):\n",
    "        print(\"This is a Rust image\")\n",
    "    else:\n",
    "        print(\"This is a no Rust image\")\n",
    "\n",
    "    return\n",
    "\n",
    "\n",
    "main_module()"
   ]
  },
  {
   "cell_type": "code",
   "execution_count": null,
   "id": "99c72f3b",
   "metadata": {},
   "outputs": [],
   "source": []
  }
 ],
 "metadata": {
  "kernelspec": {
   "display_name": "Python 3",
   "language": "python",
   "name": "python3"
  },
  "language_info": {
   "codemirror_mode": {
    "name": "ipython",
    "version": 3
   },
   "file_extension": ".py",
   "mimetype": "text/x-python",
   "name": "python",
   "nbconvert_exporter": "python",
   "pygments_lexer": "ipython3",
   "version": "3.8.8"
  }
 },
 "nbformat": 4,
 "nbformat_minor": 5
}
